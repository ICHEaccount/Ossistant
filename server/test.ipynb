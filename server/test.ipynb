{
 "cells": [
  {
   "cell_type": "code",
   "execution_count": 2,
   "metadata": {},
   "outputs": [],
   "source": [
    "import re \n",
    "import phonenumbers\n"
   ]
  },
  {
   "cell_type": "code",
   "execution_count": 17,
   "metadata": {},
   "outputs": [
    {
     "name": "stdout",
     "output_type": "stream",
     "text": [
      "['01020000001']\n"
     ]
    }
   ],
   "source": [
    "content = 'hello world but why this is fot yo'\n",
    "\n",
    "\n",
    "def parse_phone(content) -> list:\n",
    "    parsed_numbers = re.findall(r'\\b(?:\\d{3}-?\\d{3,4}-?\\d{4})\\b', content)\n",
    "    if parsed_numbers:\n",
    "        return parsed_numbers\n",
    "    else:\n",
    "        return None\n",
    "\n",
    "    \n",
    "parse_phone(content=content)\n"
   ]
  },
  {
   "cell_type": "code",
   "execution_count": 1,
   "metadata": {},
   "outputs": [
    {
     "name": "stdout",
     "output_type": "stream",
     "text": [
      "Domain not found\n"
     ]
    }
   ],
   "source": [
    "import re\n",
    "\n",
    "url = \"example.com/path/to/page\"\n",
    "\n",
    "domain_match = re.search(r'https?://(?:www\\.)?([a-zA-Z0-9-]+)\\.[a-zA-Z]{2,6}', url)\n",
    "if domain_match:\n",
    "    domain = domain_match.group(1)\n",
    "    print(\"Extracted Domain:\", domain)\n",
    "else:\n",
    "    print(\"Domain not found\")"
   ]
  },
  {
   "cell_type": "code",
   "execution_count": 19,
   "metadata": {},
   "outputs": [
    {
     "name": "stdout",
     "output_type": "stream",
     "text": [
      "[('www.example.com', '', '', '', '')]\n"
     ]
    },
    {
     "data": {
      "text/plain": [
       "tuple"
      ]
     },
     "execution_count": 19,
     "metadata": {},
     "output_type": "execute_result"
    }
   ],
   "source": [
    "import re\n",
    "from furl import furl \n",
    "import tldextract as tld\n",
    "from urllib.parse import urlparse\n",
    "\n",
    "content = 'hello wrarm and www.example.com or hample.com'\n",
    "regex = r'(?i)\\b((?:[a-z][\\w-]+:(?:\\/{1,3}|[a-z0-9%])|www\\d{0,3}[.]|[a-z0-9.\\-]+[.][a-z]{2,4}\\/)(?:[^\\s()<>]+|\\(([^\\s()<>]+|(\\([^\\s()<>]+\\)))*\\))+(?:\\(([^\\s()<>]+|(\\([^\\s()<>]+\\)))*\\)|[^\\s`!()\\[\\]{};:\\'\".,<>?\"\"]))'\n",
    "def parse_domain(content):\n",
    "    outputs = re.findall(regex,content)\n",
    "    print(outputs)\n",
    "    if outputs:\n",
    "        return type(outputs[0])\n",
    "    else:\n",
    "        return None\n",
    "\n",
    "    \n",
    "parse_domain(content=content)"
   ]
  },
  {
   "cell_type": "code",
   "execution_count": null,
   "metadata": {},
   "outputs": [],
   "source": []
  }
 ],
 "metadata": {
  "kernelspec": {
   "display_name": "iche",
   "language": "python",
   "name": "python3"
  },
  "language_info": {
   "codemirror_mode": {
    "name": "ipython",
    "version": 3
   },
   "file_extension": ".py",
   "mimetype": "text/x-python",
   "name": "python",
   "nbconvert_exporter": "python",
   "pygments_lexer": "ipython3",
   "version": "3.10.12"
  }
 },
 "nbformat": 4,
 "nbformat_minor": 2
}
